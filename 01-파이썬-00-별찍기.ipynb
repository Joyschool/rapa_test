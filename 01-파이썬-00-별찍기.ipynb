{
 "cells": [
  {
   "cell_type": "markdown",
   "id": "02879450",
   "metadata": {},
   "source": [
    "### 별찍기1"
   ]
  },
  {
   "cell_type": "code",
   "execution_count": 1,
   "id": "1347965d",
   "metadata": {},
   "outputs": [
    {
     "name": "stdout",
     "output_type": "stream",
     "text": [
      "*    \n",
      "**   \n",
      "***  \n",
      "**** \n",
      "*****\n"
     ]
    }
   ],
   "source": [
    "for i in range(5):\n",
    "    print('{:<5}'.format('*' * (i+1)))"
   ]
  },
  {
   "cell_type": "code",
   "execution_count": 2,
   "id": "fa33a278",
   "metadata": {},
   "outputs": [
    {
     "name": "stdout",
     "output_type": "stream",
     "text": [
      "*\n",
      "**\n",
      "***\n",
      "****\n",
      "*****\n"
     ]
    }
   ],
   "source": [
    "for i in range(5) :\n",
    "    for j in range(i+1):\n",
    "        print('*', end='')\n",
    "    print()"
   ]
  },
  {
   "cell_type": "markdown",
   "id": "f866f32a",
   "metadata": {},
   "source": [
    "### 별찍기2"
   ]
  },
  {
   "cell_type": "code",
   "execution_count": null,
   "id": "210519c7",
   "metadata": {},
   "outputs": [],
   "source": [
    "for i in range(5,0,-1):\n",
    "    for j in range(i):\n",
    "        print('*', end='')\n",
    "    print()"
   ]
  },
  {
   "cell_type": "code",
   "execution_count": 5,
   "id": "1555ab9f",
   "metadata": {},
   "outputs": [
    {
     "name": "stdout",
     "output_type": "stream",
     "text": [
      "*****\n",
      "**** \n",
      "***  \n",
      "**   \n",
      "*    \n",
      "     \n"
     ]
    }
   ],
   "source": [
    "for i in range(6,0,-1):\n",
    "    print('{:<5}'.format('*' * (i-1)))"
   ]
  },
  {
   "cell_type": "markdown",
   "id": "85fe42f9",
   "metadata": {},
   "source": [
    "### 별찍기3"
   ]
  },
  {
   "cell_type": "code",
   "execution_count": 6,
   "id": "55577979",
   "metadata": {},
   "outputs": [
    {
     "name": "stdout",
     "output_type": "stream",
     "text": [
      "*****\n",
      " ****\n",
      "  ***\n",
      "   **\n",
      "    *\n"
     ]
    }
   ],
   "source": [
    "for i in range(5):\n",
    "    for j in range(i):\n",
    "        print(' ', end='')\n",
    "    for j in range(5-i):\n",
    "        print('*', end='')\n",
    "    print()"
   ]
  },
  {
   "cell_type": "code",
   "execution_count": 11,
   "id": "211412a8",
   "metadata": {},
   "outputs": [
    {
     "name": "stdout",
     "output_type": "stream",
     "text": [
      "*****\n",
      " ****\n",
      "  ***\n",
      "   **\n",
      "    *\n",
      "     \n"
     ]
    }
   ],
   "source": [
    "for i in range(6,0,-1):\n",
    "    print('{:>5}'.format('*' * (i-1)))"
   ]
  },
  {
   "cell_type": "markdown",
   "id": "2618cb75",
   "metadata": {},
   "source": [
    "### 별찍기4"
   ]
  },
  {
   "cell_type": "code",
   "execution_count": 12,
   "id": "055341ae",
   "metadata": {},
   "outputs": [
    {
     "name": "stdout",
     "output_type": "stream",
     "text": [
      "    *\n",
      "   **\n",
      "  ***\n",
      " ****\n",
      "*****\n"
     ]
    }
   ],
   "source": [
    "for i in range(1,6):\n",
    "    for j in range(5-i):\n",
    "        print(' ', end='')\n",
    "    for j in range(i):\n",
    "        print('*', end='')\n",
    "    print()"
   ]
  },
  {
   "cell_type": "code",
   "execution_count": 13,
   "id": "526f100c",
   "metadata": {},
   "outputs": [
    {
     "name": "stdout",
     "output_type": "stream",
     "text": [
      "    *\n",
      "   **\n",
      "  ***\n",
      " ****\n",
      "*****\n"
     ]
    }
   ],
   "source": [
    "for i in range(5):\n",
    "    print('{:>5}'.format('*' * (i+1)))"
   ]
  },
  {
   "cell_type": "markdown",
   "id": "641fdf8c",
   "metadata": {},
   "source": [
    "### 별찍기5"
   ]
  },
  {
   "cell_type": "code",
   "execution_count": 15,
   "id": "8bc926ee",
   "metadata": {},
   "outputs": [
    {
     "name": "stdout",
     "output_type": "stream",
     "text": [
      "    *\n",
      "   ***\n",
      "  *****\n",
      " *******\n",
      "*********\n"
     ]
    }
   ],
   "source": [
    "for i in range(1,6):\n",
    "    for j in range(5-i):\n",
    "        print(' ', end='')\n",
    "    for j in range(1,i*2,1):\n",
    "        print('*', end='')\n",
    "    print()"
   ]
  },
  {
   "cell_type": "code",
   "execution_count": 16,
   "id": "21ec3c23",
   "metadata": {},
   "outputs": [
    {
     "name": "stdout",
     "output_type": "stream",
     "text": [
      "    *     \n",
      "   ***    \n",
      "  *****   \n",
      " *******  \n",
      "********* \n"
     ]
    }
   ],
   "source": [
    "for i in range(1, 11, 2):\n",
    "    print('{:^10}'.format('*' * i))"
   ]
  },
  {
   "cell_type": "code",
   "execution_count": 17,
   "id": "d7278727",
   "metadata": {},
   "outputs": [
    {
     "name": "stdout",
     "output_type": "stream",
     "text": [
      "5\n",
      "    *    \n",
      "   ***   \n",
      "  *****  \n",
      " ******* \n",
      "*********\n"
     ]
    }
   ],
   "source": [
    "n = int(input())\n",
    "for i in range(0,n):    \n",
    "    print( ('{:^{}}').format( ('*'*(i*2+1)), (n*2-1)) )"
   ]
  },
  {
   "cell_type": "markdown",
   "id": "28d73e84",
   "metadata": {},
   "source": [
    "### 별찍기6"
   ]
  },
  {
   "cell_type": "code",
   "execution_count": 18,
   "id": "084a5123",
   "metadata": {},
   "outputs": [
    {
     "name": "stdout",
     "output_type": "stream",
     "text": [
      "    *     \n",
      "   ***    \n",
      "  *****   \n",
      " *******  \n",
      "********* \n",
      "********* \n",
      " *******  \n",
      "  *****   \n",
      "   ***    \n",
      "    *     \n"
     ]
    }
   ],
   "source": [
    "for i in range(1,11,2):\n",
    "    print('{:^10}'.format('*' * i))\n",
    "for i in range(9,0,-2):\n",
    "    print('{:^10}'.format('*' * i))"
   ]
  },
  {
   "cell_type": "code",
   "execution_count": 19,
   "id": "1d93bc5f",
   "metadata": {
    "scrolled": true
   },
   "outputs": [
    {
     "name": "stdout",
     "output_type": "stream",
     "text": [
      "    *\n",
      "   ***\n",
      "  *****\n",
      " *******\n",
      "*********\n",
      "*********\n",
      " *******\n",
      "  *****\n",
      "   ***\n",
      "    *\n"
     ]
    }
   ],
   "source": [
    "for i in range(1,6):\n",
    "    for j in range(5-i):\n",
    "        print(' ', end='')\n",
    "    for j in range(1,i*2,1):\n",
    "        print('*', end='')\n",
    "    print()\n",
    "for i in range(5):\n",
    "    for j in range(i):\n",
    "        print(' ', end='')\n",
    "    for j in range(10,1+i*2,-1):\n",
    "        print('*', end='')\n",
    "    print()"
   ]
  },
  {
   "cell_type": "markdown",
   "id": "e6d75b00",
   "metadata": {},
   "source": [
    "### 별찍기7"
   ]
  },
  {
   "cell_type": "code",
   "execution_count": 20,
   "id": "8713a5b5",
   "metadata": {},
   "outputs": [
    {
     "name": "stdout",
     "output_type": "stream",
     "text": [
      "********* \n",
      " *******  \n",
      "  *****   \n",
      "   ***    \n",
      "    *     \n",
      "    *     \n",
      "   ***    \n",
      "  *****   \n",
      " *******  \n",
      "********* \n"
     ]
    }
   ],
   "source": [
    "for i in range(9,0,-2):\n",
    "    print('{:^10}'.format('*' * i))\n",
    "for i in range(1,11,2):\n",
    "    print('{:^10}'.format('*' * i))\n"
   ]
  },
  {
   "cell_type": "code",
   "execution_count": null,
   "id": "42f761e2",
   "metadata": {},
   "outputs": [],
   "source": []
  }
 ],
 "metadata": {
  "kernelspec": {
   "display_name": "Python 3 (ipykernel)",
   "language": "python",
   "name": "python3"
  },
  "language_info": {
   "codemirror_mode": {
    "name": "ipython",
    "version": 3
   },
   "file_extension": ".py",
   "mimetype": "text/x-python",
   "name": "python",
   "nbconvert_exporter": "python",
   "pygments_lexer": "ipython3",
   "version": "3.8.10"
  }
 },
 "nbformat": 4,
 "nbformat_minor": 5
}
